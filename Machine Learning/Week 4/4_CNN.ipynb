{
 "cells": [
  {
   "cell_type": "markdown",
   "metadata": {},
   "source": [
    "# CNN - Convolutional Neural Networks\n",
    "\n",
    "Convolutional Neural Networks (CNNs) are a class of deep neural networks commonly used for analyzing visual data. They are particularly effective for tasks such as image recognition, object detection, and image segmentation. CNNs have also found applications in natural language processing and other domains.\n",
    "\n",
    "**Key Components of CNNs**\n",
    "1. Convolutional Layers:\n",
    "\n",
    "    - The core building block of a CNN, a convolutional layer applies convolution operations to the input data.\n",
    "Convolution involves sliding a filter (or kernel) across the input to produce feature maps. This helps in detecting features such as edges, textures, and patterns.\n",
    "    - The filter's size, stride (step size), and padding (how the filter handles image borders) are crucial parameters.\n",
    "\n",
    "2. Activation Functions:\n",
    "\n",
    "    - Activation functions introduce non-linearity into the network, enabling it to learn complex patterns.\n",
    "    - The most commonly used activation function in CNNs is the Rectified Linear Unit (ReLU), defined as \n",
    "ReLU(x)=max(0,x).\n",
    "\n",
    "3. Pooling Layers:\n",
    "\n",
    "    - Pooling layers reduce the spatial dimensions (width and height) of the feature maps, keeping the depth intact.\n",
    "    - This operation reduces the number of parameters, controls overfitting, and makes the model more computationally efficient.\n",
    "    - Common types of pooling include max pooling (selecting the maximum value in a region) and average pooling (calculating the average value in a region).\n",
    "\n",
    "4. Fully Connected Layers:\n",
    "\n",
    "    - After a series of convolutional and pooling layers, the high-level reasoning in the network is done via fully connected (dense) layers.\n",
    "    - These layers have connections to all activations in the previous layer and typically come at the end of the CNN.\n",
    "\n",
    "5. Dropout Layers:\n",
    "\n",
    "    - Dropout is a regularization technique used to prevent overfitting. It involves randomly setting a fraction of input units to 0 at each update during training.\n",
    "\n",
    "We will learn about the architecture of this while doing an example of the MNIST dataset. The MNIST dataset consists of 60,000 training and 10,000 testing grayscale images of handwritten digits (0-9), each 28x28 pixels, widely used for training and testing image processing systems. For our example, we will be using a smaller version of that dataset.\n",
    "\n",
    "Let's start by importing libraries and data\n"
   ]
  },
  {
   "cell_type": "code",
   "execution_count": 1,
   "metadata": {},
   "outputs": [],
   "source": [
    "import numpy as np\n",
    "import pandas as pd\n",
    "import matplotlib.pyplot as plt"
   ]
  },
  {
   "cell_type": "code",
   "execution_count": 3,
   "metadata": {},
   "outputs": [
    {
     "data": {
      "text/html": [
       "<div>\n",
       "<style scoped>\n",
       "    .dataframe tbody tr th:only-of-type {\n",
       "        vertical-align: middle;\n",
       "    }\n",
       "\n",
       "    .dataframe tbody tr th {\n",
       "        vertical-align: top;\n",
       "    }\n",
       "\n",
       "    .dataframe thead th {\n",
       "        text-align: right;\n",
       "    }\n",
       "</style>\n",
       "<table border=\"1\" class=\"dataframe\">\n",
       "  <thead>\n",
       "    <tr style=\"text-align: right;\">\n",
       "      <th></th>\n",
       "      <th>label</th>\n",
       "      <th>pixel_0</th>\n",
       "      <th>pixel_1</th>\n",
       "      <th>pixel_2</th>\n",
       "      <th>pixel_3</th>\n",
       "      <th>pixel_4</th>\n",
       "      <th>pixel_5</th>\n",
       "      <th>pixel_6</th>\n",
       "      <th>pixel_7</th>\n",
       "      <th>pixel_8</th>\n",
       "      <th>...</th>\n",
       "      <th>pixel_774</th>\n",
       "      <th>pixel_775</th>\n",
       "      <th>pixel_776</th>\n",
       "      <th>pixel_777</th>\n",
       "      <th>pixel_778</th>\n",
       "      <th>pixel_779</th>\n",
       "      <th>pixel_780</th>\n",
       "      <th>pixel_781</th>\n",
       "      <th>pixel_782</th>\n",
       "      <th>pixel_783</th>\n",
       "    </tr>\n",
       "  </thead>\n",
       "  <tbody>\n",
       "    <tr>\n",
       "      <th>0</th>\n",
       "      <td>6</td>\n",
       "      <td>0</td>\n",
       "      <td>0</td>\n",
       "      <td>0</td>\n",
       "      <td>0</td>\n",
       "      <td>0</td>\n",
       "      <td>0</td>\n",
       "      <td>0</td>\n",
       "      <td>0</td>\n",
       "      <td>0</td>\n",
       "      <td>...</td>\n",
       "      <td>0</td>\n",
       "      <td>0</td>\n",
       "      <td>0</td>\n",
       "      <td>0</td>\n",
       "      <td>0</td>\n",
       "      <td>0</td>\n",
       "      <td>0</td>\n",
       "      <td>0</td>\n",
       "      <td>0</td>\n",
       "      <td>0</td>\n",
       "    </tr>\n",
       "    <tr>\n",
       "      <th>1</th>\n",
       "      <td>5</td>\n",
       "      <td>0</td>\n",
       "      <td>0</td>\n",
       "      <td>0</td>\n",
       "      <td>0</td>\n",
       "      <td>0</td>\n",
       "      <td>0</td>\n",
       "      <td>0</td>\n",
       "      <td>0</td>\n",
       "      <td>0</td>\n",
       "      <td>...</td>\n",
       "      <td>0</td>\n",
       "      <td>0</td>\n",
       "      <td>0</td>\n",
       "      <td>0</td>\n",
       "      <td>0</td>\n",
       "      <td>0</td>\n",
       "      <td>0</td>\n",
       "      <td>0</td>\n",
       "      <td>0</td>\n",
       "      <td>0</td>\n",
       "    </tr>\n",
       "    <tr>\n",
       "      <th>2</th>\n",
       "      <td>7</td>\n",
       "      <td>0</td>\n",
       "      <td>0</td>\n",
       "      <td>0</td>\n",
       "      <td>0</td>\n",
       "      <td>0</td>\n",
       "      <td>0</td>\n",
       "      <td>0</td>\n",
       "      <td>0</td>\n",
       "      <td>0</td>\n",
       "      <td>...</td>\n",
       "      <td>0</td>\n",
       "      <td>0</td>\n",
       "      <td>0</td>\n",
       "      <td>0</td>\n",
       "      <td>0</td>\n",
       "      <td>0</td>\n",
       "      <td>0</td>\n",
       "      <td>0</td>\n",
       "      <td>0</td>\n",
       "      <td>0</td>\n",
       "    </tr>\n",
       "    <tr>\n",
       "      <th>3</th>\n",
       "      <td>9</td>\n",
       "      <td>0</td>\n",
       "      <td>0</td>\n",
       "      <td>0</td>\n",
       "      <td>0</td>\n",
       "      <td>0</td>\n",
       "      <td>0</td>\n",
       "      <td>0</td>\n",
       "      <td>0</td>\n",
       "      <td>0</td>\n",
       "      <td>...</td>\n",
       "      <td>0</td>\n",
       "      <td>0</td>\n",
       "      <td>0</td>\n",
       "      <td>0</td>\n",
       "      <td>0</td>\n",
       "      <td>0</td>\n",
       "      <td>0</td>\n",
       "      <td>0</td>\n",
       "      <td>0</td>\n",
       "      <td>0</td>\n",
       "    </tr>\n",
       "    <tr>\n",
       "      <th>4</th>\n",
       "      <td>5</td>\n",
       "      <td>0</td>\n",
       "      <td>0</td>\n",
       "      <td>0</td>\n",
       "      <td>0</td>\n",
       "      <td>0</td>\n",
       "      <td>0</td>\n",
       "      <td>0</td>\n",
       "      <td>0</td>\n",
       "      <td>0</td>\n",
       "      <td>...</td>\n",
       "      <td>0</td>\n",
       "      <td>0</td>\n",
       "      <td>0</td>\n",
       "      <td>0</td>\n",
       "      <td>0</td>\n",
       "      <td>0</td>\n",
       "      <td>0</td>\n",
       "      <td>0</td>\n",
       "      <td>0</td>\n",
       "      <td>0</td>\n",
       "    </tr>\n",
       "  </tbody>\n",
       "</table>\n",
       "<p>5 rows × 785 columns</p>\n",
       "</div>"
      ],
      "text/plain": [
       "   label  pixel_0  pixel_1  pixel_2  pixel_3  pixel_4  pixel_5  pixel_6  \\\n",
       "0      6        0        0        0        0        0        0        0   \n",
       "1      5        0        0        0        0        0        0        0   \n",
       "2      7        0        0        0        0        0        0        0   \n",
       "3      9        0        0        0        0        0        0        0   \n",
       "4      5        0        0        0        0        0        0        0   \n",
       "\n",
       "   pixel_7  pixel_8  ...  pixel_774  pixel_775  pixel_776  pixel_777  \\\n",
       "0        0        0  ...          0          0          0          0   \n",
       "1        0        0  ...          0          0          0          0   \n",
       "2        0        0  ...          0          0          0          0   \n",
       "3        0        0  ...          0          0          0          0   \n",
       "4        0        0  ...          0          0          0          0   \n",
       "\n",
       "   pixel_778  pixel_779  pixel_780  pixel_781  pixel_782  pixel_783  \n",
       "0          0          0          0          0          0          0  \n",
       "1          0          0          0          0          0          0  \n",
       "2          0          0          0          0          0          0  \n",
       "3          0          0          0          0          0          0  \n",
       "4          0          0          0          0          0          0  \n",
       "\n",
       "[5 rows x 785 columns]"
      ]
     },
     "execution_count": 3,
     "metadata": {},
     "output_type": "execute_result"
    }
   ],
   "source": [
    "train_data = pd.read_csv(\"datasets/mnist_train_small.csv\", header=None) # the dataset has no header so we set header=None and later we will add the headers\n",
    "column_headers = [\"label\"] + [f\"pixel_{i}\" for i in range(784)] # we add the headers\n",
    "train_data.columns = column_headers\n",
    "train_data.head()"
   ]
  },
  {
   "cell_type": "markdown",
   "metadata": {},
   "source": [
    "Here, each pixel is a feature that will be fed into the CNN model while the label is the number those features belong to"
   ]
  },
  {
   "cell_type": "markdown",
   "metadata": {},
   "source": [
    "Let's check for missing values"
   ]
  },
  {
   "cell_type": "code",
   "execution_count": 4,
   "metadata": {},
   "outputs": [
    {
     "data": {
      "text/plain": [
       "label        0\n",
       "pixel_0      0\n",
       "pixel_1      0\n",
       "pixel_2      0\n",
       "pixel_3      0\n",
       "            ..\n",
       "pixel_779    0\n",
       "pixel_780    0\n",
       "pixel_781    0\n",
       "pixel_782    0\n",
       "pixel_783    0\n",
       "Length: 785, dtype: int64"
      ]
     },
     "execution_count": 4,
     "metadata": {},
     "output_type": "execute_result"
    }
   ],
   "source": [
    "train_data.isna().sum()"
   ]
  },
  {
   "cell_type": "markdown",
   "metadata": {},
   "source": [
    "Let's check the count of each class, it should not be too skewed or it can affect the training"
   ]
  },
  {
   "cell_type": "code",
   "execution_count": 5,
   "metadata": {},
   "outputs": [
    {
     "data": {
      "text/plain": [
       "1    2243\n",
       "7    2126\n",
       "6    2039\n",
       "9    2023\n",
       "3    2021\n",
       "2    1989\n",
       "0    1962\n",
       "4    1924\n",
       "8    1912\n",
       "5    1761\n",
       "Name: label, dtype: int64"
      ]
     },
     "execution_count": 5,
     "metadata": {},
     "output_type": "execute_result"
    }
   ],
   "source": [
    "train_data[\"label\"].value_counts()"
   ]
  },
  {
   "cell_type": "markdown",
   "metadata": {},
   "source": [
    "Now, let's visualise how the numbers look by plotting them in a graph along with the label"
   ]
  },
  {
   "cell_type": "code",
   "execution_count": 12,
   "metadata": {},
   "outputs": [
    {
     "name": "stderr",
     "output_type": "stream",
     "text": [
      "C:\\Users\\trail\\AppData\\Local\\Temp\\ipykernel_22016\\236237935.py:4: MatplotlibDeprecationWarning: Auto-removal of overlapping axes is deprecated since 3.6 and will be removed two minor releases later; explicitly call ax.remove() as needed.\n",
      "  plt.subplot(2, 4, ind+1)\n"
     ]
    },
    {
     "data": {
      "image/png": "[encoded data removed]",
      "text/plain": [
       "<Figure size 1600x800 with 8 Axes>"
      ]
     },
     "metadata": {},
     "output_type": "display_data"
    }
   ],
   "source": [
    "# first few train images with labels\n",
    "fig, ax = plt.subplots(figsize=(16, 8))\n",
    "for ind, row in train_data.iloc[:8, :].iterrows():\n",
    "    plt.subplot(2, 4, ind+1)\n",
    "    plt.title(row[0])\n",
    "    img = row.to_numpy()[1:].reshape(28, 28)\n",
    "    fig.suptitle('Train images', fontsize=24)\n",
    "    plt.axis('off')\n",
    "    plt.imshow(img, cmap='copper')"
   ]
  },
  {
   "cell_type": "markdown",
   "metadata": {},
   "source": [
    "Now, let us split the data into features and labels, our features are gonna be the pixel values and labels will be the number"
   ]
  },
  {
   "cell_type": "code",
   "execution_count": 13,
   "metadata": {},
   "outputs": [
    {
     "name": "stdout",
     "output_type": "stream",
     "text": [
      "(20000, 784) (20000,)\n"
     ]
    }
   ],
   "source": [
    "# split into image and labels and convert to numpy array\n",
    "X = train_data.iloc[:, 1:].to_numpy() # we are converting the dataframe to numpy array excluding the first column which is the label\n",
    "y = train_data['label'].to_numpy() # we are converting the label column to numpy array\n",
    "\n",
    "print(X.shape, y.shape)"
   ]
  },
  {
   "cell_type": "markdown",
   "metadata": {},
   "source": [
    "Okay, so we have 20000 examples and each example has a size of 784 which is nothing but 28*28 pixels. Each pixel can take a value from 0 to 255 to represent the brightness of the grayscale pixel. We will normalize the entire data by dividing by 255 such that each pixel is a value from 0 to 1"
   ]
  },
  {
   "cell_type": "code",
   "execution_count": 14,
   "metadata": {},
   "outputs": [],
   "source": [
    "# normalize the data\n",
    "X = X / 255.0"
   ]
  },
  {
   "cell_type": "markdown",
   "metadata": {},
   "source": [
    "Now we will reshape the data to a matrix with 1 channel for grey scale values. \n",
    "Remember that \n",
    "- -1 This tells the function to infer the number of samples (or images) automatically. It allows flexibility with the number of samples.\n",
    "- 28, 28: These are the dimensions of each image (28x28 pixels).\n",
    "- 1: This indicates that the images are grayscale, meaning each pixel has a single intensity value. This is the number of channels in the image."
   ]
  },
  {
   "cell_type": "code",
   "execution_count": 15,
   "metadata": {},
   "outputs": [
    {
     "name": "stdout",
     "output_type": "stream",
     "text": [
      "(20000, 28, 28, 1)\n"
     ]
    }
   ],
   "source": [
    "# reshape the dataframe to 28 x 28 matrix with 1 channel grey scale values\n",
    "X = X.reshape(-1,28,28,1)\n",
    "\n",
    "# shape of training dataset\n",
    "print(X.shape)"
   ]
  },
  {
   "cell_type": "markdown",
   "metadata": {},
   "source": [
    "We will use the ``to_categorical`` function to do one-hot encoding for our y-values. This is an alternative to the ``get_dummies`` method of ``pandas``."
   ]
  },
  {
   "cell_type": "code",
   "execution_count": 16,
   "metadata": {},
   "outputs": [
    {
     "name": "stdout",
     "output_type": "stream",
     "text": [
      "(20000,)\n",
      "6\n",
      "(20000, 10)\n",
      "[0. 0. 0. 0. 0. 0. 1. 0. 0. 0.]\n"
     ]
    }
   ],
   "source": [
    "from tensorflow.keras.utils import to_categorical\n",
    "\n",
    "print(y.shape)\n",
    "print(y[0])\n",
    "\n",
    "y_enc = to_categorical(y, num_classes = 10)\n",
    "\n",
    "print(y_enc.shape)\n",
    "print(y_enc[0])"
   ]
  },
  {
   "cell_type": "markdown",
   "metadata": {},
   "source": [
    "Now, we will split the training data into training set and validation set. Remember why we use a validation set???? Check out ANN notebook if you dont remember"
   ]
  },
  {
   "cell_type": "code",
   "execution_count": 17,
   "metadata": {},
   "outputs": [
    {
     "name": "stdout",
     "output_type": "stream",
     "text": [
      "(14000, 28, 28, 1)\n",
      "(14000, 10)\n",
      "(6000, 28, 28, 1)\n",
      "(6000, 10)\n"
     ]
    }
   ],
   "source": [
    "from sklearn.model_selection import train_test_split\n",
    "\n",
    "random_seed = 2\n",
    "# train validation split\n",
    "X_train, X_val, y_train_enc, y_val_enc = train_test_split(X, y_enc, test_size=0.3)\n",
    "\n",
    "# shape\n",
    "for i in [X_train, y_train_enc, X_val, y_val_enc]:\n",
    "    print(i.shape)"
   ]
  },
  {
   "cell_type": "markdown",
   "metadata": {},
   "source": [
    "Now, let's check some of our training data and labels to make sure it is correct"
   ]
  },
  {
   "cell_type": "code",
   "execution_count": 18,
   "metadata": {},
   "outputs": [
    {
     "name": "stdout",
     "output_type": "stream",
     "text": [
      "[0. 0. 0. 0. 1. 0. 0. 0. 0. 0.]\n"
     ]
    },
    {
     "data": {
      "image/png": "[encoded data removed]",
      "text/plain": [
       "<Figure size 640x480 with 1 Axes>"
      ]
     },
     "metadata": {},
     "output_type": "display_data"
    }
   ],
   "source": [
    "plt.imshow(X_train[0][:,:,0])\n",
    "print(y_train_enc[0])"
   ]
  },
  {
   "cell_type": "code",
   "execution_count": 19,
   "metadata": {},
   "outputs": [
    {
     "name": "stdout",
     "output_type": "stream",
     "text": [
      "[0. 0. 0. 0. 0. 0. 0. 1. 0. 0.]\n"
     ]
    },
    {
     "data": {
      "image/png": "[encoded data removed]",
      "text/plain": [
       "<Figure size 640x480 with 1 Axes>"
      ]
     },
     "metadata": {},
     "output_type": "display_data"
    }
   ],
   "source": [
    "plt.imshow(X_train[9][:,:,0])\n",
    "print(y_train_enc[9])"
   ]
  },
  {
   "cell_type": "markdown",
   "metadata": {},
   "source": [
    "That looks correct. Now we will move on to the architecture of the CNN"
   ]
  },
  {
   "cell_type": "markdown",
   "metadata": {},
   "source": [
    "### Architecture of CNNs\n",
    "A typical CNN architecture follows a pattern of alternating convolutional and pooling layers, followed by one or more fully connected layers. Here's a simple example:\n",
    "\n",
    "1. Input Layer: Raw image data, e.g., 32x32 RGB image.\n",
    "2. Convolutional Layer: Applies several filters to the input image, producing feature maps.\n",
    "3. ReLU Activation: Applies the ReLU function to introduce non-linearity.\n",
    "4. Pooling Layer: Reduces the spatial dimensions of the feature maps.\n",
    "5. Convolutional Layer: Applies more filters to capture more complex features.\n",
    "6. ReLU Activation: Applies ReLU function.\n",
    "7. Pooling Layer: Further reduces the spatial dimensions.\n",
    "8. Fully Connected Layer: High-level reasoning with all-to-all connections.\n",
    "9. Output Layer: Produces the final output, e.g., class probabilities in image classification."
   ]
  },
  {
   "cell_type": "markdown",
   "metadata": {},
   "source": [
    "### Let us implement this Architecture\n",
    "1. Input Layer: 28x28 grayscale images.\n",
    "2. Convolution + ReLU: 32 filters of 3x3, output size 26x26x32.\n",
    "3. Max Pooling: Reduces size to 13x13x32.\n",
    "4. Convolution + ReLU: 64 filters of 3x3, output size 11x11x64.\n",
    "5. Max Pooling: Reduces size to 5x5x64.\n",
    "6. Flatten: Converts 5x5x64 to 1600.\n",
    "7. Dense + ReLU: 128 neurons.\n",
    "8. Dropout: 20% dropout.\n",
    "9. Dense + ReLU: 64 neurons.\n",
    "10. Dropout: 20% dropout.\n",
    "11. Output: 10 neurons with softmax.\n",
    "\n",
    "Before proceeding, let's understand some terms:\n",
    "\n",
    "#### Filters in CNNs\n",
    "Filters (or kernels) are small matrices used in convolution operations. They slide over the input data to extract features such as edges, textures, or more complex patterns as we go deeper into the network.\n",
    "\n",
    "- Key Points:\n",
    "    - Size: Filters have a specific size, commonly 3x3, 5x5, etc.\n",
    "    - Number: The number of filters in a layer determines the depth of the output feature map.\n",
    "    - Operation: Each filter convolves with the input image or the output from the previous layer, producing a feature map that highlights certain features detected by the filter.\n",
    "\n",
    "#### Flatten Layer\n",
    "The Flatten layer is used to convert the multidimensional output of convolutional and pooling layers into a one-dimensional vector, making it suitable for input into fully connected (dense) layers.\n",
    "\n",
    "- Key Points:\n",
    "    - Conversion: Transforms a 3D tensor (e.g., 5x5x64) into a 1D vector (e.g., 1600).\n",
    "    - Purpose: Prepares data for the dense layers, which require 1D input.\n",
    "\n",
    "#### Dropout Layer\n",
    "Dropout is a regularization technique used to prevent overfitting in neural networks. During training, it randomly sets a fraction of input units to zero at each update. This helps the network to become less sensitive to the specific weights of individual neurons, promoting generalization.\n",
    "\n",
    "- Key Points:\n",
    "    - Dropout Rate: The fraction of input units to drop, specified as a parameter (e.g., 0.2 means 20% of the inputs are dropped).\n",
    "    - Training vs. Inference: Dropout is applied only during training, not during inference (testing)."
   ]
  },
  {
   "cell_type": "code",
   "execution_count": 20,
   "metadata": {},
   "outputs": [],
   "source": [
    "# sequential model\n",
    "from tensorflow.keras.models import Sequential\n",
    "from tensorflow.keras.layers import Conv2D, MaxPool2D, Dense, Flatten, Dropout"
   ]
  },
  {
   "cell_type": "code",
   "execution_count": 21,
   "metadata": {},
   "outputs": [],
   "source": [
    "model = Sequential()\n",
    "\n",
    "model.add(Conv2D(32, kernel_size=(3,3), activation='relu', input_shape=(28,28,1)))\n",
    "\"\"\"\n",
    "32 filters of size 3x3 are applied to the input image.\n",
    "Each filter detects different features in the input data.\n",
    "The result is 32 feature maps, each corresponding to a filter.\n",
    "\"\"\"\n",
    "model.add(MaxPool2D((2,2)))\n",
    "\n",
    "model.add(Conv2D(64, kernel_size=(3,3), activation='relu'))\n",
    "model.add(MaxPool2D((2,2)))\n",
    "\n",
    "model.add(Flatten())\n",
    "\"\"\"\n",
    "If the previous layer's output is of shape (5, 5, 64), the Flatten layer will convert it to a shape of (1600).\n",
    "\"\"\"\n",
    "\n",
    "model.add(Dense(128, activation='relu'))\n",
    "model.add(Dropout(0.2))\n",
    "\"\"\"\n",
    "20% dropout: Randomly sets 20% of the input units to zero during each update step in training.\n",
    "Purpose: Helps prevent the model from overfitting by introducing noise during training\n",
    "\"\"\"\n",
    "\n",
    "model.add(Dense(64, activation='relu'))\n",
    "model.add(Dropout(0.2))\n",
    "\n",
    "model.add(Dense(10, activation='softmax'))"
   ]
  },
  {
   "cell_type": "markdown",
   "metadata": {},
   "source": [
    "Now, let us compile the model, and see the the summary"
   ]
  },
  {
   "cell_type": "code",
   "execution_count": 22,
   "metadata": {},
   "outputs": [
    {
     "name": "stdout",
     "output_type": "stream",
     "text": [
      "Model: \"sequential\"\n",
      "_________________________________________________________________\n",
      " Layer (type)                Output Shape              Param #   \n",
      "=================================================================\n",
      " conv2d (Conv2D)             (None, 26, 26, 32)        320       \n",
      "                                                                 \n",
      " max_pooling2d (MaxPooling2D  (None, 13, 13, 32)       0         \n",
      " )                                                               \n",
      "                                                                 \n",
      " conv2d_1 (Conv2D)           (None, 11, 11, 64)        18496     \n",
      "                                                                 \n",
      " max_pooling2d_1 (MaxPooling  (None, 5, 5, 64)         0         \n",
      " 2D)                                                             \n",
      "                                                                 \n",
      " flatten (Flatten)           (None, 1600)              0         \n",
      "                                                                 \n",
      " dense (Dense)               (None, 128)               204928    \n",
      "                                                                 \n",
      " dropout (Dropout)           (None, 128)               0         \n",
      "                                                                 \n",
      " dense_1 (Dense)             (None, 64)                8256      \n",
      "                                                                 \n",
      " dropout_1 (Dropout)         (None, 64)                0         \n",
      "                                                                 \n",
      " dense_2 (Dense)             (None, 10)                650       \n",
      "                                                                 \n",
      "=================================================================\n",
      "Total params: 232,650\n",
      "Trainable params: 232,650\n",
      "Non-trainable params: 0\n",
      "_________________________________________________________________\n"
     ]
    }
   ],
   "source": [
    "model.compile(optimizer='adam', loss='categorical_crossentropy', metrics=['accuracy'])\n",
    "model.summary()"
   ]
  },
  {
   "cell_type": "markdown",
   "metadata": {},
   "source": [
    "Wow, that is a lot of parameters, this model may take a while to train, let us fit the model to our training data and use the validation data too"
   ]
  },
  {
   "cell_type": "code",
   "execution_count": 23,
   "metadata": {},
   "outputs": [
    {
     "name": "stdout",
     "output_type": "stream",
     "text": [
      "Epoch 1/10\n",
      "110/110 [==============================] - 10s 82ms/step - loss: 0.7576 - accuracy: 0.7568 - val_loss: 0.1693 - val_accuracy: 0.9493\n",
      "Epoch 2/10\n",
      "110/110 [==============================] - 8s 77ms/step - loss: 0.1957 - accuracy: 0.9429 - val_loss: 0.1135 - val_accuracy: 0.9645\n",
      "Epoch 3/10\n",
      "110/110 [==============================] - 8s 74ms/step - loss: 0.1329 - accuracy: 0.9594 - val_loss: 0.0835 - val_accuracy: 0.9762\n",
      "Epoch 4/10\n",
      "110/110 [==============================] - 9s 82ms/step - loss: 0.1005 - accuracy: 0.9690 - val_loss: 0.0857 - val_accuracy: 0.9725\n",
      "Epoch 5/10\n",
      "110/110 [==============================] - 8s 74ms/step - loss: 0.0791 - accuracy: 0.9764 - val_loss: 0.0654 - val_accuracy: 0.9802\n",
      "Epoch 6/10\n",
      "110/110 [==============================] - 8s 74ms/step - loss: 0.0643 - accuracy: 0.9798 - val_loss: 0.0847 - val_accuracy: 0.9765\n",
      "Epoch 7/10\n",
      "110/110 [==============================] - 8s 77ms/step - loss: 0.0536 - accuracy: 0.9837 - val_loss: 0.0616 - val_accuracy: 0.9823\n",
      "Epoch 8/10\n",
      "110/110 [==============================] - 8s 74ms/step - loss: 0.0511 - accuracy: 0.9840 - val_loss: 0.0568 - val_accuracy: 0.9818\n",
      "Epoch 9/10\n",
      "110/110 [==============================] - 8s 77ms/step - loss: 0.0381 - accuracy: 0.9874 - val_loss: 0.0671 - val_accuracy: 0.9817\n",
      "Epoch 10/10\n",
      "110/110 [==============================] - 9s 78ms/step - loss: 0.0376 - accuracy: 0.9884 - val_loss: 0.0544 - val_accuracy: 0.9838\n"
     ]
    }
   ],
   "source": [
    "history = model.fit(X_train, y_train_enc, epochs=10, validation_data=(X_val, y_val_enc), batch_size=128) # batch_size is the number of samples per gradient update"
   ]
  },
  {
   "cell_type": "markdown",
   "metadata": {},
   "source": [
    "Cool, training is done, let us look at the loss and accuracy during training. This was returned to the ``history`` variable"
   ]
  },
  {
   "cell_type": "code",
   "execution_count": 24,
   "metadata": {},
   "outputs": [
    {
     "data": {
      "image/png": "[encoded data removed]",
      "text/plain": [
       "<Figure size 1400x500 with 2 Axes>"
      ]
     },
     "metadata": {},
     "output_type": "display_data"
    }
   ],
   "source": [
    "plt.figure(figsize=(14, 5))\n",
    "\n",
    "plt.subplot(1, 2, 1)\n",
    "plt.plot(history.history['accuracy'], label='Training Accuracy')\n",
    "plt.plot(history.history['val_accuracy'], label='Validation Accuracy')\n",
    "plt.legend(loc='lower right')\n",
    "plt.title('Training and Validation Accuracy')\n",
    "\n",
    "plt.subplot(1, 2, 2)\n",
    "plt.plot(history.history['loss'], label='Training Loss')\n",
    "plt.plot(history.history['val_loss'], label='Validation Loss')\n",
    "plt.legend(loc='upper right')\n",
    "plt.title('Training and Validation Loss')\n",
    "\n",
    "plt.show()"
   ]
  },
  {
   "cell_type": "markdown",
   "metadata": {},
   "source": [
    "Finally let, us look at some metrics like accuracy, recall and f1-score"
   ]
  },
  {
   "cell_type": "code",
   "execution_count": 25,
   "metadata": {},
   "outputs": [],
   "source": [
    "# model performance metrics\n",
    "from sklearn.metrics import confusion_matrix, classification_report"
   ]
  },
  {
   "cell_type": "code",
   "execution_count": 26,
   "metadata": {},
   "outputs": [
    {
     "data": {
      "text/plain": [
       "[0.05444631353020668, 0.9838333129882812]"
      ]
     },
     "execution_count": 26,
     "metadata": {},
     "output_type": "execute_result"
    }
   ],
   "source": [
    "# model loss and accuracy on validation set\n",
    "model.evaluate(X_val, y_val_enc, verbose=False) # verbose=False will not show the progress bar"
   ]
  },
  {
   "cell_type": "markdown",
   "metadata": {},
   "source": [
    "The first value is the loss and the second is the accuracy on the validation set"
   ]
  },
  {
   "cell_type": "markdown",
   "metadata": {},
   "source": [
    "Now, lets make predictions on the valdation set and see how many it got wrong and how many are right"
   ]
  },
  {
   "cell_type": "code",
   "execution_count": 27,
   "metadata": {},
   "outputs": [
    {
     "name": "stdout",
     "output_type": "stream",
     "text": [
      "188/188 [==============================] - 2s 7ms/step\n",
      "[1.3999904e-10 2.6043136e-08 5.2253267e-08 2.2700890e-08 9.4809127e-10\n",
      " 2.9386896e-11 1.3242088e-13 9.9999893e-01 7.4144790e-10 1.0668795e-06]\n",
      "7\n"
     ]
    }
   ],
   "source": [
    "# predicted values\n",
    "y_pred_enc = model.predict(X_val)\n",
    "\n",
    "# actual\n",
    "y_act = [np.argmax(i) for i in y_val_enc]\n",
    "\n",
    "# decoding predicted values\n",
    "y_pred = [np.argmax(i) for i in y_pred_enc] # argmax returns the indices of the maximum values along an axis\n",
    "\n",
    "print(y_pred_enc[0])\n",
    "print(y_pred[0])"
   ]
  },
  {
   "cell_type": "markdown",
   "metadata": {},
   "source": [
    "The numbers in the list represent the confidence for each class, you can see that class 7 has the highest confidence of about 99%"
   ]
  },
  {
   "cell_type": "code",
   "execution_count": 28,
   "metadata": {},
   "outputs": [
    {
     "name": "stdout",
     "output_type": "stream",
     "text": [
      "              precision    recall  f1-score   support\n",
      "\n",
      "           0       0.99      0.99      0.99       574\n",
      "           1       0.98      0.99      0.99       646\n",
      "           2       0.98      0.98      0.98       599\n",
      "           3       0.99      0.97      0.98       619\n",
      "           4       0.98      0.99      0.98       575\n",
      "           5       0.98      0.98      0.98       573\n",
      "           6       0.98      0.99      0.99       598\n",
      "           7       0.97      0.99      0.98       624\n",
      "           8       0.99      0.98      0.98       590\n",
      "           9       0.99      0.98      0.98       602\n",
      "\n",
      "    accuracy                           0.98      6000\n",
      "   macro avg       0.98      0.98      0.98      6000\n",
      "weighted avg       0.98      0.98      0.98      6000\n",
      "\n"
     ]
    }
   ],
   "source": [
    "print(classification_report(y_act, y_pred))"
   ]
  },
  {
   "cell_type": "markdown",
   "metadata": {},
   "source": [
    "Scores close to 1 are deemed good"
   ]
  },
  {
   "cell_type": "markdown",
   "metadata": {},
   "source": [
    "Finally, let us look at a confusion matrix. all the off-diagonal cells are where actual class != predicted class. We can see that most of the samples were classified correctly"
   ]
  },
  {
   "cell_type": "code",
   "execution_count": 30,
   "metadata": {},
   "outputs": [
    {
     "data": {
      "image/png": "[encoded data removed]",
      "text/plain": [
       "<Figure size 700x700 with 1 Axes>"
      ]
     },
     "metadata": {},
     "output_type": "display_data"
    }
   ],
   "source": [
    "import seaborn as sns\n",
    "\n",
    "fig, ax = plt.subplots(figsize=(7, 7))\n",
    "sns.heatmap(confusion_matrix(y_act, y_pred), annot=True, \n",
    "            cbar=False, fmt='1d', cmap='Blues', ax=ax)\n",
    "ax.set_title('Confusion Matrix', loc='left', fontsize=16)\n",
    "ax.set_xlabel('Predicted')\n",
    "ax.set_ylabel('Actual')\n",
    "plt.show()"
   ]
  },
  {
   "cell_type": "markdown",
   "metadata": {},
   "source": [
    "Now, let us load in the test dataset and see how it does on that, remember to preprocess the data like we did for training"
   ]
  },
  {
   "cell_type": "code",
   "execution_count": 31,
   "metadata": {},
   "outputs": [
    {
     "data": {
      "text/html": [
       "<div>\n",
       "<style scoped>\n",
       "    .dataframe tbody tr th:only-of-type {\n",
       "        vertical-align: middle;\n",
       "    }\n",
       "\n",
       "    .dataframe tbody tr th {\n",
       "        vertical-align: top;\n",
       "    }\n",
       "\n",
       "    .dataframe thead th {\n",
       "        text-align: right;\n",
       "    }\n",
       "</style>\n",
       "<table border=\"1\" class=\"dataframe\">\n",
       "  <thead>\n",
       "    <tr style=\"text-align: right;\">\n",
       "      <th></th>\n",
       "      <th>label</th>\n",
       "      <th>pixel_0</th>\n",
       "      <th>pixel_1</th>\n",
       "      <th>pixel_2</th>\n",
       "      <th>pixel_3</th>\n",
       "      <th>pixel_4</th>\n",
       "      <th>pixel_5</th>\n",
       "      <th>pixel_6</th>\n",
       "      <th>pixel_7</th>\n",
       "      <th>pixel_8</th>\n",
       "      <th>...</th>\n",
       "      <th>pixel_774</th>\n",
       "      <th>pixel_775</th>\n",
       "      <th>pixel_776</th>\n",
       "      <th>pixel_777</th>\n",
       "      <th>pixel_778</th>\n",
       "      <th>pixel_779</th>\n",
       "      <th>pixel_780</th>\n",
       "      <th>pixel_781</th>\n",
       "      <th>pixel_782</th>\n",
       "      <th>pixel_783</th>\n",
       "    </tr>\n",
       "  </thead>\n",
       "  <tbody>\n",
       "    <tr>\n",
       "      <th>0</th>\n",
       "      <td>7</td>\n",
       "      <td>0</td>\n",
       "      <td>0</td>\n",
       "      <td>0</td>\n",
       "      <td>0</td>\n",
       "      <td>0</td>\n",
       "      <td>0</td>\n",
       "      <td>0</td>\n",
       "      <td>0</td>\n",
       "      <td>0</td>\n",
       "      <td>...</td>\n",
       "      <td>0</td>\n",
       "      <td>0</td>\n",
       "      <td>0</td>\n",
       "      <td>0</td>\n",
       "      <td>0</td>\n",
       "      <td>0</td>\n",
       "      <td>0</td>\n",
       "      <td>0</td>\n",
       "      <td>0</td>\n",
       "      <td>0</td>\n",
       "    </tr>\n",
       "    <tr>\n",
       "      <th>1</th>\n",
       "      <td>2</td>\n",
       "      <td>0</td>\n",
       "      <td>0</td>\n",
       "      <td>0</td>\n",
       "      <td>0</td>\n",
       "      <td>0</td>\n",
       "      <td>0</td>\n",
       "      <td>0</td>\n",
       "      <td>0</td>\n",
       "      <td>0</td>\n",
       "      <td>...</td>\n",
       "      <td>0</td>\n",
       "      <td>0</td>\n",
       "      <td>0</td>\n",
       "      <td>0</td>\n",
       "      <td>0</td>\n",
       "      <td>0</td>\n",
       "      <td>0</td>\n",
       "      <td>0</td>\n",
       "      <td>0</td>\n",
       "      <td>0</td>\n",
       "    </tr>\n",
       "    <tr>\n",
       "      <th>2</th>\n",
       "      <td>1</td>\n",
       "      <td>0</td>\n",
       "      <td>0</td>\n",
       "      <td>0</td>\n",
       "      <td>0</td>\n",
       "      <td>0</td>\n",
       "      <td>0</td>\n",
       "      <td>0</td>\n",
       "      <td>0</td>\n",
       "      <td>0</td>\n",
       "      <td>...</td>\n",
       "      <td>0</td>\n",
       "      <td>0</td>\n",
       "      <td>0</td>\n",
       "      <td>0</td>\n",
       "      <td>0</td>\n",
       "      <td>0</td>\n",
       "      <td>0</td>\n",
       "      <td>0</td>\n",
       "      <td>0</td>\n",
       "      <td>0</td>\n",
       "    </tr>\n",
       "    <tr>\n",
       "      <th>3</th>\n",
       "      <td>0</td>\n",
       "      <td>0</td>\n",
       "      <td>0</td>\n",
       "      <td>0</td>\n",
       "      <td>0</td>\n",
       "      <td>0</td>\n",
       "      <td>0</td>\n",
       "      <td>0</td>\n",
       "      <td>0</td>\n",
       "      <td>0</td>\n",
       "      <td>...</td>\n",
       "      <td>0</td>\n",
       "      <td>0</td>\n",
       "      <td>0</td>\n",
       "      <td>0</td>\n",
       "      <td>0</td>\n",
       "      <td>0</td>\n",
       "      <td>0</td>\n",
       "      <td>0</td>\n",
       "      <td>0</td>\n",
       "      <td>0</td>\n",
       "    </tr>\n",
       "    <tr>\n",
       "      <th>4</th>\n",
       "      <td>4</td>\n",
       "      <td>0</td>\n",
       "      <td>0</td>\n",
       "      <td>0</td>\n",
       "      <td>0</td>\n",
       "      <td>0</td>\n",
       "      <td>0</td>\n",
       "      <td>0</td>\n",
       "      <td>0</td>\n",
       "      <td>0</td>\n",
       "      <td>...</td>\n",
       "      <td>0</td>\n",
       "      <td>0</td>\n",
       "      <td>0</td>\n",
       "      <td>0</td>\n",
       "      <td>0</td>\n",
       "      <td>0</td>\n",
       "      <td>0</td>\n",
       "      <td>0</td>\n",
       "      <td>0</td>\n",
       "      <td>0</td>\n",
       "    </tr>\n",
       "  </tbody>\n",
       "</table>\n",
       "<p>5 rows × 785 columns</p>\n",
       "</div>"
      ],
      "text/plain": [
       "   label  pixel_0  pixel_1  pixel_2  pixel_3  pixel_4  pixel_5  pixel_6  \\\n",
       "0      7        0        0        0        0        0        0        0   \n",
       "1      2        0        0        0        0        0        0        0   \n",
       "2      1        0        0        0        0        0        0        0   \n",
       "3      0        0        0        0        0        0        0        0   \n",
       "4      4        0        0        0        0        0        0        0   \n",
       "\n",
       "   pixel_7  pixel_8  ...  pixel_774  pixel_775  pixel_776  pixel_777  \\\n",
       "0        0        0  ...          0          0          0          0   \n",
       "1        0        0  ...          0          0          0          0   \n",
       "2        0        0  ...          0          0          0          0   \n",
       "3        0        0  ...          0          0          0          0   \n",
       "4        0        0  ...          0          0          0          0   \n",
       "\n",
       "   pixel_778  pixel_779  pixel_780  pixel_781  pixel_782  pixel_783  \n",
       "0          0          0          0          0          0          0  \n",
       "1          0          0          0          0          0          0  \n",
       "2          0          0          0          0          0          0  \n",
       "3          0          0          0          0          0          0  \n",
       "4          0          0          0          0          0          0  \n",
       "\n",
       "[5 rows x 785 columns]"
      ]
     },
     "execution_count": 31,
     "metadata": {},
     "output_type": "execute_result"
    }
   ],
   "source": [
    "test_data = pd.read_csv(\"datasets/mnist_test.csv\", header = None)\n",
    "test_data.columns = column_headers\n",
    "test_data.head()"
   ]
  },
  {
   "cell_type": "code",
   "execution_count": 32,
   "metadata": {},
   "outputs": [
    {
     "name": "stdout",
     "output_type": "stream",
     "text": [
      "(10000, 784) (10000,)\n"
     ]
    }
   ],
   "source": [
    "# split into image and labels and convert to numpy array\n",
    "X_test = test_data.iloc[:, 1:].to_numpy()\n",
    "y_test = test_data['label'].to_numpy()\n",
    "\n",
    "print(X_test.shape, y_test.shape)"
   ]
  },
  {
   "cell_type": "code",
   "execution_count": 33,
   "metadata": {},
   "outputs": [],
   "source": [
    "X_test = X_test / 255.0"
   ]
  },
  {
   "cell_type": "code",
   "execution_count": 34,
   "metadata": {},
   "outputs": [
    {
     "name": "stdout",
     "output_type": "stream",
     "text": [
      "(10000, 28, 28, 1)\n"
     ]
    }
   ],
   "source": [
    "# reshape the dataframe to 3x3 matrix with 1 channel grey scale values\n",
    "X_test = X_test.reshape(-1,28,28,1)\n",
    "\n",
    "# shape of testing dataset\n",
    "print(X_test.shape)"
   ]
  },
  {
   "cell_type": "code",
   "execution_count": 36,
   "metadata": {},
   "outputs": [
    {
     "name": "stdout",
     "output_type": "stream",
     "text": [
      "313/313 [==============================] - 2s 7ms/step\n",
      "[6.3312727e-10 1.3190724e-09 2.0806695e-07 9.3413577e-10 5.6384664e-11\n",
      " 1.4115874e-11 2.1343216e-13 9.9999964e-01 1.1771269e-10 9.2927102e-08]\n",
      "7\n"
     ]
    }
   ],
   "source": [
    "# predicted values\n",
    "y_pred_enc = model.predict(X_test)\n",
    "\n",
    "# decoding predicted values\n",
    "y_pred = [np.argmax(i) for i in y_pred_enc]\n",
    "\n",
    "print(y_pred_enc[0])\n",
    "print(y_pred[0])"
   ]
  },
  {
   "cell_type": "markdown",
   "metadata": {},
   "source": [
    "Lets visualize the actual image and the predicted outcome"
   ]
  },
  {
   "cell_type": "code",
   "execution_count": 37,
   "metadata": {},
   "outputs": [
    {
     "name": "stderr",
     "output_type": "stream",
     "text": [
      "C:\\Users\\trail\\AppData\\Local\\Temp\\ipykernel_22016\\2334307217.py:5: MatplotlibDeprecationWarning: Auto-removal of overlapping axes is deprecated since 3.6 and will be removed two minor releases later; explicitly call ax.remove() as needed.\n",
      "  plt.subplot(3, 5, ind+1)\n"
     ]
    },
    {
     "data": {
      "image/png": "[encoded data removed]",
      "text/plain": [
       "<Figure size 1600x800 with 15 Axes>"
      ]
     },
     "metadata": {},
     "output_type": "display_data"
    }
   ],
   "source": [
    "# predicted targets of each images\n",
    "# (labels above the images are predicted labels)\n",
    "fig, ax = plt.subplots(figsize=(16, 8))\n",
    "for ind, row in enumerate(X_test[:15]):\n",
    "    plt.subplot(3, 5, ind+1)\n",
    "    plt.title(y_pred[ind])\n",
    "    img = row.reshape(28, 28)\n",
    "    fig.suptitle('Predicted values', fontsize=24)\n",
    "    plt.axis('off')\n",
    "    plt.imshow(img, cmap='inferno')"
   ]
  },
  {
   "cell_type": "markdown",
   "metadata": {},
   "source": [
    "Congratulations! you have made a CNN model that can classify handwritten digits"
   ]
  }
 ],
 "metadata": {
  "kernelspec": {
   "display_name": "Python 3",
   "language": "python",
   "name": "python3"
  },
  "language_info": {
   "codemirror_mode": {
    "name": "ipython",
    "version": 3
   },
   "file_extension": ".py",
   "mimetype": "text/x-python",
   "name": "python",
   "nbconvert_exporter": "python",
   "pygments_lexer": "ipython3",
   "version": "3.10.10"
  }
 },
 "nbformat": 4,
 "nbformat_minor": 2
}
