{
 "cells": [
  {
   "cell_type": "markdown",
   "metadata": {},
   "source": [
    "## Machine Learning Techniques\n",
    "\n",
    "### Introduction\n",
    "In the previous weeks, we have learnt how to import data, visualize them and process them, so that they are ready to be used for the next step in the AI process - Modelling.\n",
    "\n",
    "There are many different types of machine learning techniques which can be used to run different machine learning tasks such as classification, regression, and clustering. In this session, we will create our own models to make predictions, cluster data, etc. The skills you will gain here will be used again in the kaggle competitions!\n",
    "\n",
    "As explored previously, there are 2 main types of machine learning algorithms we want to explore: Supervised learning and unsupervised learning. Do you still remember the difference between the two?"
   ]
  },
  {
   "cell_type": "code",
   "execution_count": 1,
   "metadata": {},
   "outputs": [],
   "source": [
    "import pandas as pd"
   ]
  },
  {
   "cell_type": "markdown",
   "metadata": {},
   "source": [
    "### Supervised Learning Techniques\n",
    "Have you used the video sharing site Youtube before? Do you realise that it will recommend videos that it thinks you will like to watch? Do you notice that the videos recommended to you will be different compared to the videos recommended to your friends? How do you think it can do that?\n",
    "\n",
    "The Youtube recommendation technology uses something known as supervised learning techique. Every time you 'like' a video, Youtube will record down the information of the video: Its name, genre, length, uploaders, etc. The more you watch and 'like' videos, the more information will be recorded into the system.\n",
    "\n",
    "This data set will be used to train a supervised learning model which will then predict which video you might like. This is done by analysing the videos you have watched and 'liked', and looking at the similarities between the video information. In this case, the videos that you liked previously will be the features or the data that the model will train. On the other hand, the videos that you most likely will want to watch (watched by other people who liked the same videos as you) will be the labels or the targets to the model/technique. The model/technique essentially tries and \"match\" the features to the labels.\n",
    "\n",
    "Supervised learning techniques requires training data that is **labelled**. For example, in the previous example, a video can either be liked, not rated, or disliked. These are the **labels** that are necessary in the training data when training the model. With more training data, a more accurate model can be made.\n",
    "\n",
    "Label has to be appropriate. For example, if you want to predict the exam scores of a student given the number of hours spent studying, then the data must contain the exam scores for each student. This will allow the machine learning algorithm to learn from the examples given.\n",
    "\n",
    "Another important term in supervised learning techniques is '**features**'. Features refer to the data that can be used to predict the target or label. Based on the example of the exam scores, the exam scores are the target and the number of hours spent studying is a **feature**. Other features for that example can include the number of questions practiced, amount of sleep before the exam, etc.\n",
    "\n",
    "With the features and labels/targets, the algorithm will then be able to \"learn\" the relationship between the features and labels/targets.\n",
    "\n",
    "Supervised learning techniques can be used to either classify data into different groups or to predict the relationships between variables. Techniques that classify data return categories or groups. For example, if we want to predict whether there will be rain tomorrow, we can use an algorithm that will return categories such as raining or sunny. On the other hand, techniques that are used for regression return numerical solutions. For example, if we want to predict the amount of rain tomorrow, we can use an alogrithm than will return numbers instead of categories.\n",
    "\n",
    "After understanding what is supervised learning, we will now explore the different supervised learning techniques!"
   ]
  },
  {
   "cell_type": "markdown",
   "metadata": {},
   "source": [
    "### K-Nearest-Neighbours (KNN)\n",
    "\n",
    "Look at the graph! These are the height and weight samples of male and female. Notice how they are grouped together. Males tend to be taller and heavier as compared to females, and you can see that there is a noticeable grouping.\n",
    "\n",
    "![KNN graph](assets/KNN1.JPG)\n",
    "\n",
    "Now, look at the green dot, the unknown input. Looking at the data, would you say that the unknown input belong to the male data or the female data? Why? How would you determine that?\n",
    "\n",
    "Well, you can see that they are closer to the male data, and thus it is more likely that the unknown data represents a male as well. This method of determining a group by its distance to other, already known data points, is called the K-nearest neighbours\n",
    "\n",
    "K-Nearest Neighbours (KNN) can be used in classification or regression problems. However, it is mainly used for classification problems. As the name suggests, this algorithm relies on the surrounding points or neighbours to determine its class or group. For example, if you are trying to classify an unknown point as either class A or class B using KNN and the majority of the points nearest to the unknown point are in class A, which class do you think the unknown point will be in?\n",
    "\n",
    "If you guessed class A, your answer is right. This is because KNN utilises the properties of the majority of the nearest points to decide how to classify unknown points. This is similar to the famous phrase \"birds of the same feather, flock together\". Likewise, you will expect points that are similar to be close to each other.\n",
    "\n",
    "Watch this [video](https://www.youtube.com/watch?v=MDniRwXizWo) to find out more about KNN. What are the main advantages and disadvantages of KNN? You will be using KNN in subsequent exercises. This is because it is an easy to use and flexible algorithm which can be used for many problems."
   ]
  },
  {
   "cell_type": "markdown",
   "metadata": {},
   "source": [
    "After understanding how KNN works, lets try to apply it to a hypothetical scenario. In this scenario, you want to predict if a device is a laptop or a computer using features such as price and amount of memory. As such, you plotted a scatter plot for all the data points that you have.\n",
    "\n",
    "![KNN hypothetical](assets/KNN.jpg)\n",
    "\n",
    "The x-axis shows the amount of memory (GB) whereas the y-axis shows the price (USD). The blue circles are data points for desktop whereas the orange circles are data points for laptops. The star represents the unknown point.\n",
    "\n",
    "Based on your understanding of KNN, will the unknown point be a desktop or laptop if we were to apply KNN with 3 nearest neighbours? Will your answer change if you were to use 4 nearest neighbours or 5 nearest neighbours? How about if you were to use 9 nearest neighbours?\n",
    "\n",
    "Did you realise that the unknown point will change its classification if you were to use 9 nearest neighbours? From the graph, it is quite obvious that the unknown point is not a desktop. However, due to KNN using the majority, it is possible for KNN to wrongly classify an unknown point if the wrong number of nearest neighbours were used. Thus, it is always important to identify the best number of nearest neighbours. We will see how this is done in the next few notebooks when we learn how to tune the models! For now, it is sufficient to just understand why the number of neighbours is an important parameter in K nearest neighbours."
   ]
  },
  {
   "cell_type": "markdown",
   "metadata": {},
   "source": [
    "### Classifying flowers using KNN and the Iris Flower dataset\n",
    "\n",
    "Let us now apply the KNN technique to the Iris Flower dataset. First, load the previously used Iris Flower dataset as a pandas dataframe."
   ]
  },
  {
   "cell_type": "code",
   "execution_count": 2,
   "metadata": {},
   "outputs": [
    {
     "data": {
      "text/html": [
       "<div>\n",
       "<style scoped>\n",
       "    .dataframe tbody tr th:only-of-type {\n",
       "        vertical-align: middle;\n",
       "    }\n",
       "\n",
       "    .dataframe tbody tr th {\n",
       "        vertical-align: top;\n",
       "    }\n",
       "\n",
       "    .dataframe thead th {\n",
       "        text-align: right;\n",
       "    }\n",
       "</style>\n",
       "<table border=\"1\" class=\"dataframe\">\n",
       "  <thead>\n",
       "    <tr style=\"text-align: right;\">\n",
       "      <th></th>\n",
       "      <th>sepal_length</th>\n",
       "      <th>sepal_width</th>\n",
       "      <th>petal_length</th>\n",
       "      <th>petal_width</th>\n",
       "      <th>Class</th>\n",
       "    </tr>\n",
       "  </thead>\n",
       "  <tbody>\n",
       "    <tr>\n",
       "      <th>0</th>\n",
       "      <td>5.1</td>\n",
       "      <td>3.5</td>\n",
       "      <td>1.4</td>\n",
       "      <td>0.2</td>\n",
       "      <td>Setosa</td>\n",
       "    </tr>\n",
       "    <tr>\n",
       "      <th>1</th>\n",
       "      <td>4.9</td>\n",
       "      <td>3.0</td>\n",
       "      <td>1.4</td>\n",
       "      <td>0.2</td>\n",
       "      <td>Setosa</td>\n",
       "    </tr>\n",
       "    <tr>\n",
       "      <th>2</th>\n",
       "      <td>4.7</td>\n",
       "      <td>3.2</td>\n",
       "      <td>1.3</td>\n",
       "      <td>0.2</td>\n",
       "      <td>Setosa</td>\n",
       "    </tr>\n",
       "    <tr>\n",
       "      <th>3</th>\n",
       "      <td>4.6</td>\n",
       "      <td>3.1</td>\n",
       "      <td>1.5</td>\n",
       "      <td>0.2</td>\n",
       "      <td>Setosa</td>\n",
       "    </tr>\n",
       "    <tr>\n",
       "      <th>4</th>\n",
       "      <td>5.0</td>\n",
       "      <td>3.6</td>\n",
       "      <td>1.4</td>\n",
       "      <td>0.2</td>\n",
       "      <td>Setosa</td>\n",
       "    </tr>\n",
       "  </tbody>\n",
       "</table>\n",
       "</div>"
      ],
      "text/plain": [
       "   sepal_length  sepal_width  petal_length  petal_width   Class\n",
       "0           5.1          3.5           1.4          0.2  Setosa\n",
       "1           4.9          3.0           1.4          0.2  Setosa\n",
       "2           4.7          3.2           1.3          0.2  Setosa\n",
       "3           4.6          3.1           1.5          0.2  Setosa\n",
       "4           5.0          3.6           1.4          0.2  Setosa"
      ]
     },
     "execution_count": 2,
     "metadata": {},
     "output_type": "execute_result"
    }
   ],
   "source": [
    "df = pd.read_csv('datasets/iris.csv')\n",
    "df.head()"
   ]
  },
  {
   "cell_type": "markdown",
   "metadata": {},
   "source": [
    "### Setting up data for the KNN algorithm\n",
    "\n",
    "Let us try to use KNN to classify the dataset with the type of flower or class being the target variable. To help us do so, we need to convert the categorical classes into numbers so that it can be understood easier by the computer. We can do so through the usage of **label encoding**.\n",
    "\n",
    "#### Label Encoding\n",
    "Label encoding refers to the assignment of a number for each category. For example, if you have to predict the weather and there are two classes, rainy or sunny, we can label rainy as 0 and sunny as 1 (see table below). In this way, we can convert the categories to numbers.\n",
    "\n",
    "![Label encoding example](assets/Label2.JPG)\n",
    "\n",
    "How would you apply label encoding to the iris dataset?\n",
    "\n",
    "We can convert the class/flower type in the Iris Flower dataset into numbers. What are the different classes within the dataset? How many classes are there in total?\n",
    "\n",
    "Now, label encode the different classes. 'Setosa' can be 1, 'Versicolor' can be 2 and 'Virginica' can be 3."
   ]
  },
  {
   "cell_type": "code",
   "execution_count": 3,
   "metadata": {},
   "outputs": [
    {
     "name": "stdout",
     "output_type": "stream",
     "text": [
      "Setosa        50\n",
      "Versicolor    50\n",
      "Virginica     50\n",
      "Name: Class, dtype: int64\n"
     ]
    }
   ],
   "source": [
    "print(df['Class'].value_counts()) # Count the number of each class"
   ]
  },
  {
   "cell_type": "code",
   "execution_count": 4,
   "metadata": {},
   "outputs": [
    {
     "name": "stdout",
     "output_type": "stream",
     "text": [
      "1    50\n",
      "2    50\n",
      "3    50\n",
      "Name: Class, dtype: int64\n"
     ]
    }
   ],
   "source": [
    "# dictionary to map class to number\n",
    "class_to_num = {\"Class\" : {'Setosa': 1, 'Versicolor': 2, 'Virginica': 3}}\n",
    "\n",
    "# use replace function to map class to number\n",
    "df.replace(class_to_num, inplace=True)\n",
    "print(df[\"Class\"].value_counts()) # print the number of data points to check if each class has been changed to a number"
   ]
  },
  {
   "cell_type": "code",
   "execution_count": 5,
   "metadata": {},
   "outputs": [
    {
     "data": {
      "text/html": [
       "<div>\n",
       "<style scoped>\n",
       "    .dataframe tbody tr th:only-of-type {\n",
       "        vertical-align: middle;\n",
       "    }\n",
       "\n",
       "    .dataframe tbody tr th {\n",
       "        vertical-align: top;\n",
       "    }\n",
       "\n",
       "    .dataframe thead th {\n",
       "        text-align: right;\n",
       "    }\n",
       "</style>\n",
       "<table border=\"1\" class=\"dataframe\">\n",
       "  <thead>\n",
       "    <tr style=\"text-align: right;\">\n",
       "      <th></th>\n",
       "      <th>sepal_length</th>\n",
       "      <th>sepal_width</th>\n",
       "      <th>petal_length</th>\n",
       "      <th>petal_width</th>\n",
       "      <th>Class</th>\n",
       "    </tr>\n",
       "  </thead>\n",
       "  <tbody>\n",
       "    <tr>\n",
       "      <th>0</th>\n",
       "      <td>5.1</td>\n",
       "      <td>3.5</td>\n",
       "      <td>1.4</td>\n",
       "      <td>0.2</td>\n",
       "      <td>1</td>\n",
       "    </tr>\n",
       "    <tr>\n",
       "      <th>1</th>\n",
       "      <td>4.9</td>\n",
       "      <td>3.0</td>\n",
       "      <td>1.4</td>\n",
       "      <td>0.2</td>\n",
       "      <td>1</td>\n",
       "    </tr>\n",
       "    <tr>\n",
       "      <th>2</th>\n",
       "      <td>4.7</td>\n",
       "      <td>3.2</td>\n",
       "      <td>1.3</td>\n",
       "      <td>0.2</td>\n",
       "      <td>1</td>\n",
       "    </tr>\n",
       "    <tr>\n",
       "      <th>3</th>\n",
       "      <td>4.6</td>\n",
       "      <td>3.1</td>\n",
       "      <td>1.5</td>\n",
       "      <td>0.2</td>\n",
       "      <td>1</td>\n",
       "    </tr>\n",
       "    <tr>\n",
       "      <th>4</th>\n",
       "      <td>5.0</td>\n",
       "      <td>3.6</td>\n",
       "      <td>1.4</td>\n",
       "      <td>0.2</td>\n",
       "      <td>1</td>\n",
       "    </tr>\n",
       "  </tbody>\n",
       "</table>\n",
       "</div>"
      ],
      "text/plain": [
       "   sepal_length  sepal_width  petal_length  petal_width  Class\n",
       "0           5.1          3.5           1.4          0.2      1\n",
       "1           4.9          3.0           1.4          0.2      1\n",
       "2           4.7          3.2           1.3          0.2      1\n",
       "3           4.6          3.1           1.5          0.2      1\n",
       "4           5.0          3.6           1.4          0.2      1"
      ]
     },
     "execution_count": 5,
     "metadata": {},
     "output_type": "execute_result"
    }
   ],
   "source": [
    "df.head()"
   ]
  },
  {
   "cell_type": "markdown",
   "metadata": {},
   "source": [
    "**Bonus: There is also another method to convert categories to numbers. The method is known as one-hot encoding. One-hot encoding changes the categories into binary (0 or 1) categories. For example, if you have raining or sunny days as categories, one hot encoding will add 2 more columns, rainy and sunny, to the dataframe. If the data point shows rainy, it will be converted to a value of 1 under the raining column and a value of 0 under the sunny column (see table below). Read this [article](https://machinelearningmastery.com/why-one-hot-encode-data-in-machine-learning/) to find out more about one-hot encoding. Now, read this [article](https://queirozf.com/entries/one-hot-encoding-a-feature-on-a-pandas-dataframe-an-example) to learn how to do one-hot encoding for pandas. Import the Iris Flower dataset again as df2 and conduct the one-hot encoding for it.**\n",
    "\n",
    "![One hot encoding](assets/Label1.JPG)"
   ]
  },
  {
   "cell_type": "code",
   "execution_count": 6,
   "metadata": {},
   "outputs": [
    {
     "data": {
      "text/html": [
       "<div>\n",
       "<style scoped>\n",
       "    .dataframe tbody tr th:only-of-type {\n",
       "        vertical-align: middle;\n",
       "    }\n",
       "\n",
       "    .dataframe tbody tr th {\n",
       "        vertical-align: top;\n",
       "    }\n",
       "\n",
       "    .dataframe thead th {\n",
       "        text-align: right;\n",
       "    }\n",
       "</style>\n",
       "<table border=\"1\" class=\"dataframe\">\n",
       "  <thead>\n",
       "    <tr style=\"text-align: right;\">\n",
       "      <th></th>\n",
       "      <th>sepal_length</th>\n",
       "      <th>sepal_width</th>\n",
       "      <th>petal_length</th>\n",
       "      <th>petal_width</th>\n",
       "      <th>Class_Setosa</th>\n",
       "      <th>Class_Versicolor</th>\n",
       "      <th>Class_Virginica</th>\n",
       "    </tr>\n",
       "  </thead>\n",
       "  <tbody>\n",
       "    <tr>\n",
       "      <th>0</th>\n",
       "      <td>5.1</td>\n",
       "      <td>3.5</td>\n",
       "      <td>1.4</td>\n",
       "      <td>0.2</td>\n",
       "      <td>1</td>\n",
       "      <td>0</td>\n",
       "      <td>0</td>\n",
       "    </tr>\n",
       "    <tr>\n",
       "      <th>1</th>\n",
       "      <td>4.9</td>\n",
       "      <td>3.0</td>\n",
       "      <td>1.4</td>\n",
       "      <td>0.2</td>\n",
       "      <td>1</td>\n",
       "      <td>0</td>\n",
       "      <td>0</td>\n",
       "    </tr>\n",
       "    <tr>\n",
       "      <th>2</th>\n",
       "      <td>4.7</td>\n",
       "      <td>3.2</td>\n",
       "      <td>1.3</td>\n",
       "      <td>0.2</td>\n",
       "      <td>1</td>\n",
       "      <td>0</td>\n",
       "      <td>0</td>\n",
       "    </tr>\n",
       "    <tr>\n",
       "      <th>3</th>\n",
       "      <td>4.6</td>\n",
       "      <td>3.1</td>\n",
       "      <td>1.5</td>\n",
       "      <td>0.2</td>\n",
       "      <td>1</td>\n",
       "      <td>0</td>\n",
       "      <td>0</td>\n",
       "    </tr>\n",
       "    <tr>\n",
       "      <th>4</th>\n",
       "      <td>5.0</td>\n",
       "      <td>3.6</td>\n",
       "      <td>1.4</td>\n",
       "      <td>0.2</td>\n",
       "      <td>1</td>\n",
       "      <td>0</td>\n",
       "      <td>0</td>\n",
       "    </tr>\n",
       "    <tr>\n",
       "      <th>5</th>\n",
       "      <td>5.4</td>\n",
       "      <td>3.9</td>\n",
       "      <td>1.7</td>\n",
       "      <td>0.4</td>\n",
       "      <td>1</td>\n",
       "      <td>0</td>\n",
       "      <td>0</td>\n",
       "    </tr>\n",
       "    <tr>\n",
       "      <th>6</th>\n",
       "      <td>4.6</td>\n",
       "      <td>3.4</td>\n",
       "      <td>1.4</td>\n",
       "      <td>0.3</td>\n",
       "      <td>1</td>\n",
       "      <td>0</td>\n",
       "      <td>0</td>\n",
       "    </tr>\n",
       "    <tr>\n",
       "      <th>7</th>\n",
       "      <td>5.0</td>\n",
       "      <td>3.4</td>\n",
       "      <td>1.5</td>\n",
       "      <td>0.2</td>\n",
       "      <td>1</td>\n",
       "      <td>0</td>\n",
       "      <td>0</td>\n",
       "    </tr>\n",
       "    <tr>\n",
       "      <th>8</th>\n",
       "      <td>4.4</td>\n",
       "      <td>2.9</td>\n",
       "      <td>1.4</td>\n",
       "      <td>0.2</td>\n",
       "      <td>1</td>\n",
       "      <td>0</td>\n",
       "      <td>0</td>\n",
       "    </tr>\n",
       "    <tr>\n",
       "      <th>9</th>\n",
       "      <td>4.9</td>\n",
       "      <td>3.1</td>\n",
       "      <td>1.5</td>\n",
       "      <td>0.1</td>\n",
       "      <td>1</td>\n",
       "      <td>0</td>\n",
       "      <td>0</td>\n",
       "    </tr>\n",
       "  </tbody>\n",
       "</table>\n",
       "</div>"
      ],
      "text/plain": [
       "   sepal_length  sepal_width  petal_length  petal_width  Class_Setosa  \\\n",
       "0           5.1          3.5           1.4          0.2             1   \n",
       "1           4.9          3.0           1.4          0.2             1   \n",
       "2           4.7          3.2           1.3          0.2             1   \n",
       "3           4.6          3.1           1.5          0.2             1   \n",
       "4           5.0          3.6           1.4          0.2             1   \n",
       "5           5.4          3.9           1.7          0.4             1   \n",
       "6           4.6          3.4           1.4          0.3             1   \n",
       "7           5.0          3.4           1.5          0.2             1   \n",
       "8           4.4          2.9           1.4          0.2             1   \n",
       "9           4.9          3.1           1.5          0.1             1   \n",
       "\n",
       "   Class_Versicolor  Class_Virginica  \n",
       "0                 0                0  \n",
       "1                 0                0  \n",
       "2                 0                0  \n",
       "3                 0                0  \n",
       "4                 0                0  \n",
       "5                 0                0  \n",
       "6                 0                0  \n",
       "7                 0                0  \n",
       "8                 0                0  \n",
       "9                 0                0  "
      ]
     },
     "execution_count": 6,
     "metadata": {},
     "output_type": "execute_result"
    }
   ],
   "source": [
    "df2 = pd.read_csv('datasets/iris.csv')\n",
    "df2 = pd.get_dummies(df2, prefix=['Class']) # the get_dummies function will convert the class column into 3 columns, one for each class in this example\n",
    "df2.head(10)"
   ]
  },
  {
   "cell_type": "markdown",
   "metadata": {},
   "source": [
    "Great! You've learnt how to conduct label encoding and one-hot encoding. We can now try out the KNN algorithm. We first have to import the KNN algorithm from scikit learn. [Scikit learn](https://scikit-learn.org/stable/) is an open source python library which contains numerous popular machine learning algorithms. What does scikit learn contain? What can it do? See the listed [examples](https://scikit-learn.org/stable/auto_examples/index.html) for inspiration! Are you brimming with excitement now?"
   ]
  },
  {
   "cell_type": "code",
   "execution_count": 7,
   "metadata": {},
   "outputs": [],
   "source": [
    "from sklearn.neighbors import KNeighborsClassifier"
   ]
  },
  {
   "cell_type": "markdown",
   "metadata": {},
   "source": [
    "Read this [link](https://scikit-learn.org/stable/modules/generated/sklearn.neighbors.KNeighborsClassifier.html) to find out how to use the KNeighborsClassifier from sklearn. Do you remember from earlier in this notebook that the number of neighbours is required for KNN? From the link, what is the default number of neighbors used?\n",
    "\n",
    "Let us use the default number of neighbors to try and classify the Iris Flower dataset.\n",
    "\n",
    "We will only use 2 features (sepal_length and sepal_width) initially. In the code below, these are included in the 'x' dataframe. The 'class' of the flower i.e. the name of the flower species will be the 'label', included in the 'y' dataframe."
   ]
  },
  {
   "cell_type": "code",
   "execution_count": 8,
   "metadata": {},
   "outputs": [
    {
     "name": "stdout",
     "output_type": "stream",
     "text": [
      "   sepal_length  sepal_width\n",
      "0           5.1          3.5\n",
      "1           4.9          3.0\n",
      "2           4.7          3.2\n",
      "3           4.6          3.1\n",
      "4           5.0          3.6\n",
      "0    1\n",
      "1    1\n",
      "2    1\n",
      "3    1\n",
      "4    1\n",
      "Name: Class, dtype: int64\n"
     ]
    }
   ],
   "source": [
    "# Initialise the KNeighborsClassifier\n",
    "KNN = KNeighborsClassifier()\n",
    "\n",
    "# Extract out the x values and y values. x will be sepal_length and y will be classes\n",
    "x = df[['sepal_length','sepal_width']]\n",
    "y = df['Class']\n",
    "\n",
    "# Print .head() of x and y to make sure the data is correct\n",
    "print(x.head())\n",
    "print(y.head())"
   ]
  },
  {
   "cell_type": "code",
   "execution_count": 9,
   "metadata": {},
   "outputs": [],
   "source": [
    "# Train KNN using the x and y values. This is done through the .fit method.\n",
    "KNN = KNN.fit(x,y)"
   ]
  },
  {
   "cell_type": "code",
   "execution_count": 10,
   "metadata": {},
   "outputs": [
    {
     "data": {
      "text/html": [
       "<div>\n",
       "<style scoped>\n",
       "    .dataframe tbody tr th:only-of-type {\n",
       "        vertical-align: middle;\n",
       "    }\n",
       "\n",
       "    .dataframe tbody tr th {\n",
       "        vertical-align: top;\n",
       "    }\n",
       "\n",
       "    .dataframe thead th {\n",
       "        text-align: right;\n",
       "    }\n",
       "</style>\n",
       "<table border=\"1\" class=\"dataframe\">\n",
       "  <thead>\n",
       "    <tr style=\"text-align: right;\">\n",
       "      <th></th>\n",
       "      <th>sepal_length</th>\n",
       "      <th>sepal_width</th>\n",
       "    </tr>\n",
       "  </thead>\n",
       "  <tbody>\n",
       "    <tr>\n",
       "      <th>0</th>\n",
       "      <td>5</td>\n",
       "      <td>3.0</td>\n",
       "    </tr>\n",
       "    <tr>\n",
       "      <th>1</th>\n",
       "      <td>8</td>\n",
       "      <td>3.5</td>\n",
       "    </tr>\n",
       "  </tbody>\n",
       "</table>\n",
       "</div>"
      ],
      "text/plain": [
       "   sepal_length  sepal_width\n",
       "0             5          3.0\n",
       "1             8          3.5"
      ]
     },
     "execution_count": 10,
     "metadata": {},
     "output_type": "execute_result"
    }
   ],
   "source": [
    "# Let us use the trained KNN to predict the type of flower if its sepal length = 5 and sepal_width = 3.We can use the .predict method to do so.\n",
    "# We will also test it with sepal length = 8 and sepal_width = 3.5\n",
    "test = pd.DataFrame()\n",
    "test['sepal_length'] = [5,8]\n",
    "test['sepal_width'] = [3,3.5]\n",
    "test.head()\n"
   ]
  },
  {
   "cell_type": "code",
   "execution_count": 11,
   "metadata": {},
   "outputs": [
    {
     "name": "stdout",
     "output_type": "stream",
     "text": [
      "[1 3]\n"
     ]
    }
   ],
   "source": [
    "predict_flower = KNN.predict(test)\n",
    "\n",
    "# Print predict_flower\n",
    "print(predict_flower)"
   ]
  },
  {
   "cell_type": "markdown",
   "metadata": {},
   "source": [
    "From the output above, do you know which flower type was predicted for a data point with sepal length = 5 and sepal width = 3? Remember our encoding earlier?\n",
    "\n",
    "It predicted Setosa!\n",
    "\n",
    "What if the sepal length = 3 and sepal width = 5?"
   ]
  },
  {
   "cell_type": "code",
   "execution_count": 12,
   "metadata": {},
   "outputs": [
    {
     "name": "stdout",
     "output_type": "stream",
     "text": [
      "[1]\n"
     ]
    }
   ],
   "source": [
    "test2 = pd.DataFrame()\n",
    "test2['sepal_length'] = [3]\n",
    "test2['sepal_width'] = [5]\n",
    "predict_flower = KNN.predict(test2)\n",
    "\n",
    "# Print predict_flower\n",
    "print(predict_flower)"
   ]
  },
  {
   "cell_type": "markdown",
   "metadata": {},
   "source": [
    "You have trained your first supervised learning model. However, we only used 2 variables. Train another KNN model named KNN2 with all the other variables ('sepal_length','sepal_width','petal_length','petal_width') instead of just sepal length and sepal width."
   ]
  },
  {
   "cell_type": "code",
   "execution_count": 14,
   "metadata": {},
   "outputs": [],
   "source": [
    "x1 = df[['sepal_length','sepal_width','petal_length','petal_width']]\n",
    "y1 = df['Class']\n",
    "KNN2 = KNN.fit(x1,y1)"
   ]
  },
  {
   "cell_type": "markdown",
   "metadata": {},
   "source": [
    "Using your new model, can you predict the flower type with sepal_length = 5.8, sepal_width = 2.3, petal_length = 5.0 and petal_width = 1.3?"
   ]
  },
  {
   "cell_type": "code",
   "execution_count": 15,
   "metadata": {},
   "outputs": [
    {
     "name": "stdout",
     "output_type": "stream",
     "text": [
      "[2]\n"
     ]
    }
   ],
   "source": [
    "test = pd.DataFrame()\n",
    "test['sepal_length'] = [5.8]\n",
    "test['sepal_width'] = [2.3]\n",
    "test[\"petal_length\"] = [5.0]\n",
    "test[\"petal_width\"] = [1.3]\n",
    "predict_flower = KNN2.predict(test)\n",
    "print(predict_flower)"
   ]
  },
  {
   "cell_type": "markdown",
   "metadata": {},
   "source": [
    "2 so versicolor\n",
    "\n",
    "Great! You have used the k-nearest neighbour algorithm to train a classification model that can classify the types of flower given the characteristics of the flowers such as the sepal length, sepal width , petal length , and the petal width.\n",
    "\n",
    "If you want to learn more about the KNN algorithm and about the mathematics behind it, you can do so [here](https://www.ibm.com/topics/knn)\n",
    "\n",
    "There are many models that can be used for classification. Next, we will explore the decision tree to help us with classification as well."
   ]
  },
  {
   "cell_type": "markdown",
   "metadata": {},
   "source": []
  }
 ],
 "metadata": {
  "kernelspec": {
   "display_name": "Python 3",
   "language": "python",
   "name": "python3"
  },
  "language_info": {
   "codemirror_mode": {
    "name": "ipython",
    "version": 3
   },
   "file_extension": ".py",
   "mimetype": "text/x-python",
   "name": "python",
   "nbconvert_exporter": "python",
   "pygments_lexer": "ipython3",
   "version": "3.10.10"
  }
 },
 "nbformat": 4,
 "nbformat_minor": 2
}
